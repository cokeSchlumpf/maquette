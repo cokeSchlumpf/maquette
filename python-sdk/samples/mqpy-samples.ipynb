{
 "cells": [
  {
   "cell_type": "code",
   "execution_count": 1,
   "metadata": {},
   "outputs": [],
   "source": [
    "import sys\n",
    "sys.path.append('./../src/main')\n",
    "\n",
    "import mqpy\n",
    "from mqpy import \\\n",
    "    ENamespacePrivilege as NsPrivilege, \\\n",
    "    EDatasetPrivilege as DsPrivilege, \\\n",
    "    EAuthorizationType as Auth"
   ]
  },
  {
   "cell_type": "markdown",
   "metadata": {},
   "source": [
    "## Working with namespaces"
   ]
  },
  {
   "cell_type": "code",
   "execution_count": 2,
   "metadata": {},
   "outputs": [
    {
     "data": {
      "text/html": [
       "<div>\n",
       "<style scoped>\n",
       "    .dataframe tbody tr th:only-of-type {\n",
       "        vertical-align: middle;\n",
       "    }\n",
       "\n",
       "    .dataframe tbody tr th {\n",
       "        vertical-align: top;\n",
       "    }\n",
       "\n",
       "    .dataframe thead th {\n",
       "        text-align: right;\n",
       "    }\n",
       "</style>\n",
       "<table border=\"1\" class=\"dataframe\">\n",
       "  <thead>\n",
       "    <tr style=\"text-align: right;\">\n",
       "      <th></th>\n",
       "      <th>NAME</th>\n",
       "      <th>OWNER</th>\n",
       "      <th>MODIFIED</th>\n",
       "      <th>DATASETS</th>\n",
       "    </tr>\n",
       "  </thead>\n",
       "  <tbody>\n",
       "    <tr>\n",
       "      <th>0</th>\n",
       "      <td>hippo</td>\n",
       "      <td>hippo</td>\n",
       "      <td>2019-09-17 18:47:42</td>\n",
       "      <td>1</td>\n",
       "    </tr>\n",
       "    <tr>\n",
       "      <th>1</th>\n",
       "      <td>mwellner</td>\n",
       "      <td>hippo</td>\n",
       "      <td>2019-09-17 01:03:20</td>\n",
       "      <td>0</td>\n",
       "    </tr>\n",
       "  </tbody>\n",
       "</table>\n",
       "</div>"
      ],
      "text/plain": [
       "       NAME  OWNER             MODIFIED  DATASETS\n",
       "0     hippo  hippo  2019-09-17 18:47:42         1\n",
       "1  mwellner  hippo  2019-09-17 01:03:20         0"
      ]
     },
     "execution_count": 2,
     "metadata": {},
     "output_type": "execute_result"
    }
   ],
   "source": [
    "mqpy.Namespace('mwellner').create()\n",
    "mqpy.namespaces()"
   ]
  },
  {
   "cell_type": "code",
   "execution_count": 3,
   "metadata": {},
   "outputs": [],
   "source": [
    "ns = mqpy.Namespace()"
   ]
  },
  {
   "cell_type": "code",
   "execution_count": 4,
   "metadata": {},
   "outputs": [
    {
     "name": "stdout",
     "output_type": "stream",
     "text": [
      "PROPERTIES\n",
      "----------\n",
      "OWNER          hippo                  \n",
      "                                      \n",
      "CREATED        2019-09-17 00:18:21    \n",
      "CREATED BY     hippo                  \n",
      "                                      \n",
      "MODIFIED       2019-09-17 18:51:02    \n",
      "MODIFIED BY    hippo                  \n",
      "                                      \n",
      "DATASETS       1                      \n",
      "\n",
      "\n",
      "ACCESS CONTROL\n",
      "--------------\n",
      "GRANTED TO    PRIVILEGE    GRANTED BY    GRANTED AT             \n",
      "foo           member       hippo         2019-09-17 18:51:02    \n",
      "\n",
      "\n",
      "\n",
      "---\n",
      "\n"
     ]
    },
    {
     "data": {
      "text/plain": [
       "PROPERTIES\n",
       "----------\n",
       "OWNER          hippo                  \n",
       "                                      \n",
       "CREATED        2019-09-17 00:18:21    \n",
       "CREATED BY     hippo                  \n",
       "                                      \n",
       "MODIFIED       2019-09-17 18:51:02    \n",
       "MODIFIED BY    hippo                  \n",
       "                                      \n",
       "DATASETS       1                      \n",
       "\n",
       "\n",
       "ACCESS CONTROL\n",
       "--------------\n",
       "GRANTED TO    PRIVILEGE    GRANTED BY    GRANTED AT    \n"
      ]
     },
     "execution_count": 4,
     "metadata": {},
     "output_type": "execute_result"
    }
   ],
   "source": [
    "ns \\\n",
    "    .grant(NsPrivilege.MEMBER, Auth.USER, 'foo') \\\n",
    "    .print()\n",
    "\n",
    "print()\n",
    "print('---')\n",
    "print()\n",
    "\n",
    "ns.revoke(NsPrivilege.MEMBER, Auth.USER, 'foo')"
   ]
  },
  {
   "cell_type": "markdown",
   "metadata": {},
   "source": [
    "## Working with Datasets\n",
    "\n",
    "Datasets can be access via their parent namespace object."
   ]
  },
  {
   "cell_type": "code",
   "execution_count": 5,
   "metadata": {},
   "outputs": [
    {
     "data": {
      "text/html": [
       "<div>\n",
       "<style scoped>\n",
       "    .dataframe tbody tr th:only-of-type {\n",
       "        vertical-align: middle;\n",
       "    }\n",
       "\n",
       "    .dataframe tbody tr th {\n",
       "        vertical-align: top;\n",
       "    }\n",
       "\n",
       "    .dataframe thead th {\n",
       "        text-align: right;\n",
       "    }\n",
       "</style>\n",
       "<table border=\"1\" class=\"dataframe\">\n",
       "  <thead>\n",
       "    <tr style=\"text-align: right;\">\n",
       "      <th></th>\n",
       "      <th>NAME</th>\n",
       "    </tr>\n",
       "  </thead>\n",
       "  <tbody>\n",
       "    <tr>\n",
       "      <th>0</th>\n",
       "      <td>my-data</td>\n",
       "    </tr>\n",
       "  </tbody>\n",
       "</table>\n",
       "</div>"
      ],
      "text/plain": [
       "      NAME\n",
       "0  my-data"
      ]
     },
     "execution_count": 5,
     "metadata": {},
     "output_type": "execute_result"
    }
   ],
   "source": [
    "ns.datasets()"
   ]
  },
  {
   "cell_type": "code",
   "execution_count": 6,
   "metadata": {},
   "outputs": [
    {
     "data": {
      "text/plain": [
       "PROPERTIES\n",
       "----------\n",
       "OWNER          hippo                  \n",
       "                                      \n",
       "CREATED        2019-09-17 18:21:46    \n",
       "CREATED BY     hippo                  \n",
       "                                      \n",
       "MODIFIED       2019-09-17 18:21:46    \n",
       "MODIFIED BY    hippo                  \n",
       "                                      \n",
       "VERSIONS       7                      \n",
       "\n",
       "\n",
       "ACCESS CONTROL\n",
       "--------------\n",
       "GRANTED TO    PRIVILEGE    GRANTED BY    GRANTED AT    \n"
      ]
     },
     "execution_count": 6,
     "metadata": {},
     "output_type": "execute_result"
    }
   ],
   "source": [
    "ds = ns.dataset('my-data')\n",
    "ds.create()"
   ]
  },
  {
   "cell_type": "code",
   "execution_count": 7,
   "metadata": {},
   "outputs": [
    {
     "name": "stdout",
     "output_type": "stream",
     "text": [
      "PROPERTIES\n",
      "----------\n",
      "OWNER          hippo                  \n",
      "                                      \n",
      "CREATED        2019-09-17 18:21:46    \n",
      "CREATED BY     hippo                  \n",
      "                                      \n",
      "MODIFIED       2019-09-17 18:21:46    \n",
      "MODIFIED BY    hippo                  \n",
      "                                      \n",
      "VERSIONS       7                      \n",
      "\n",
      "\n",
      "ACCESS CONTROL\n",
      "--------------\n",
      "GRANTED TO    PRIVILEGE    GRANTED BY    GRANTED AT             \n",
      "*             consumer     hippo         2019-09-17 18:51:02    \n",
      "\n",
      "\n",
      "\n",
      "---\n",
      "\n"
     ]
    },
    {
     "data": {
      "text/plain": [
       "PROPERTIES\n",
       "----------\n",
       "OWNER          hippo                  \n",
       "                                      \n",
       "CREATED        2019-09-17 18:21:46    \n",
       "CREATED BY     hippo                  \n",
       "                                      \n",
       "MODIFIED       2019-09-17 18:21:46    \n",
       "MODIFIED BY    hippo                  \n",
       "                                      \n",
       "VERSIONS       7                      \n",
       "\n",
       "\n",
       "ACCESS CONTROL\n",
       "--------------\n",
       "GRANTED TO    PRIVILEGE    GRANTED BY    GRANTED AT    \n"
      ]
     },
     "execution_count": 7,
     "metadata": {},
     "output_type": "execute_result"
    }
   ],
   "source": [
    "ds \\\n",
    "    .grant(DsPrivilege.CONSUMER, Auth.WILDCARD) \\\n",
    "    .print()\n",
    "\n",
    "print()\n",
    "print('---')\n",
    "print()\n",
    "\n",
    "ds \\\n",
    "    .revoke(DsPrivilege.CONSUMER, Auth.WILDCARD)"
   ]
  },
  {
   "cell_type": "code",
   "execution_count": 8,
   "metadata": {},
   "outputs": [
    {
     "data": {
      "text/html": [
       "<div>\n",
       "<style scoped>\n",
       "    .dataframe tbody tr th:only-of-type {\n",
       "        vertical-align: middle;\n",
       "    }\n",
       "\n",
       "    .dataframe tbody tr th {\n",
       "        vertical-align: top;\n",
       "    }\n",
       "\n",
       "    .dataframe thead th {\n",
       "        text-align: right;\n",
       "    }\n",
       "</style>\n",
       "<table border=\"1\" class=\"dataframe\">\n",
       "  <thead>\n",
       "    <tr style=\"text-align: right;\">\n",
       "      <th></th>\n",
       "      <th>VERSION</th>\n",
       "      <th>RECORDS</th>\n",
       "      <th>MODIFIED</th>\n",
       "      <th>BY</th>\n",
       "      <th>ID</th>\n",
       "    </tr>\n",
       "  </thead>\n",
       "  <tbody>\n",
       "    <tr>\n",
       "      <th>0</th>\n",
       "      <td>2.3.0</td>\n",
       "      <td>5</td>\n",
       "      <td>2019-09-17 18:47:42</td>\n",
       "      <td>hippo</td>\n",
       "      <td>2f78c760-8063-4774-babb-251b7756de62</td>\n",
       "    </tr>\n",
       "    <tr>\n",
       "      <th>1</th>\n",
       "      <td>2.2.0</td>\n",
       "      <td>5</td>\n",
       "      <td>2019-09-17 18:47:15</td>\n",
       "      <td>hippo</td>\n",
       "      <td>17cf336d-02f8-40b0-96e4-bcb50fcdbc50</td>\n",
       "    </tr>\n",
       "    <tr>\n",
       "      <th>2</th>\n",
       "      <td>2.1.0</td>\n",
       "      <td>5</td>\n",
       "      <td>2019-09-17 18:46:08</td>\n",
       "      <td>hippo</td>\n",
       "      <td>81b4f255-54b7-4194-b5cb-2db800a3d70c</td>\n",
       "    </tr>\n",
       "    <tr>\n",
       "      <th>3</th>\n",
       "      <td>2.0.0</td>\n",
       "      <td>5</td>\n",
       "      <td>2019-09-17 18:45:17</td>\n",
       "      <td>hippo</td>\n",
       "      <td>f088466c-4753-4d94-b101-59115f77cd98</td>\n",
       "    </tr>\n",
       "    <tr>\n",
       "      <th>4</th>\n",
       "      <td>1.2.0</td>\n",
       "      <td>5</td>\n",
       "      <td>2019-09-17 18:39:19</td>\n",
       "      <td>hippo</td>\n",
       "      <td>a73848d1-4c64-4aea-9390-997126b1d86b</td>\n",
       "    </tr>\n",
       "    <tr>\n",
       "      <th>5</th>\n",
       "      <td>1.1.0</td>\n",
       "      <td>5</td>\n",
       "      <td>2019-09-17 00:46:26</td>\n",
       "      <td>hippo</td>\n",
       "      <td>51074143-5908-40a1-bd31-99907ed74d16</td>\n",
       "    </tr>\n",
       "    <tr>\n",
       "      <th>6</th>\n",
       "      <td>1.0.0</td>\n",
       "      <td>5</td>\n",
       "      <td>2019-09-17 00:19:05</td>\n",
       "      <td>hippo</td>\n",
       "      <td>f909ce31-4b77-49be-b31c-1d4d9b7a0886</td>\n",
       "    </tr>\n",
       "  </tbody>\n",
       "</table>\n",
       "</div>"
      ],
      "text/plain": [
       "  VERSION  RECORDS             MODIFIED     BY  \\\n",
       "0   2.3.0        5  2019-09-17 18:47:42  hippo   \n",
       "1   2.2.0        5  2019-09-17 18:47:15  hippo   \n",
       "2   2.1.0        5  2019-09-17 18:46:08  hippo   \n",
       "3   2.0.0        5  2019-09-17 18:45:17  hippo   \n",
       "4   1.2.0        5  2019-09-17 18:39:19  hippo   \n",
       "5   1.1.0        5  2019-09-17 00:46:26  hippo   \n",
       "6   1.0.0        5  2019-09-17 00:19:05  hippo   \n",
       "\n",
       "                                     ID  \n",
       "0  2f78c760-8063-4774-babb-251b7756de62  \n",
       "1  17cf336d-02f8-40b0-96e4-bcb50fcdbc50  \n",
       "2  81b4f255-54b7-4194-b5cb-2db800a3d70c  \n",
       "3  f088466c-4753-4d94-b101-59115f77cd98  \n",
       "4  a73848d1-4c64-4aea-9390-997126b1d86b  \n",
       "5  51074143-5908-40a1-bd31-99907ed74d16  \n",
       "6  f909ce31-4b77-49be-b31c-1d4d9b7a0886  "
      ]
     },
     "execution_count": 8,
     "metadata": {},
     "output_type": "execute_result"
    }
   ],
   "source": [
    "ds.versions()"
   ]
  },
  {
   "cell_type": "code",
   "execution_count": 13,
   "metadata": {},
   "outputs": [
    {
     "data": {
      "text/plain": [
       "VERSION 1.0.0\n",
       "\n",
       "PROPERTIES\n",
       "----------\n",
       "ID                   f909ce31-4b77-49be-b31c-1d4d9b7a0886    \n",
       "RECORDS              5                                       \n",
       "                                                             \n",
       "SHORT DESCRIPTION    some nice data                          \n",
       "COMMITTED            2019-09-17 00:19:05                     \n",
       "COMMITTED BY         hippo                                   \n",
       "                                                             \n",
       "CREATED              2019-09-17 00:19:05                     \n",
       "CREATED BY           hippo                                   \n",
       "                                                             \n",
       "MODIFIED             2019-09-17 00:19:05                     \n",
       "MODIFIED BY          hippo                                   \n",
       "\n",
       "\n",
       "SCHEMA\n",
       "------\n",
       "{\n",
       "  \"type\" : \"record\",\n",
       "  \"name\" : \"country\",\n",
       "  \"fields\" : [ {\n",
       "    \"name\" : \"name\",\n",
       "    \"type\" : \"string\"\n",
       "  }, {\n",
       "    \"name\" : \"capital\",\n",
       "    \"type\" : \"string\"\n",
       "  }, {\n",
       "    \"name\" : \"citizens\",\n",
       "    \"type\" : \"int\"\n",
       "  } ]\n",
       "}"
      ]
     },
     "execution_count": 13,
     "metadata": {},
     "output_type": "execute_result"
    }
   ],
   "source": [
    "version = ds.version('1.0.0')\n",
    "version"
   ]
  },
  {
   "cell_type": "markdown",
   "metadata": {},
   "source": [
    "## Get and Put datasets "
   ]
  },
  {
   "cell_type": "code",
   "execution_count": 15,
   "metadata": {},
   "outputs": [
    {
     "data": {
      "text/html": [
       "<div>\n",
       "<style scoped>\n",
       "    .dataframe tbody tr th:only-of-type {\n",
       "        vertical-align: middle;\n",
       "    }\n",
       "\n",
       "    .dataframe tbody tr th {\n",
       "        vertical-align: top;\n",
       "    }\n",
       "\n",
       "    .dataframe thead th {\n",
       "        text-align: right;\n",
       "    }\n",
       "</style>\n",
       "<table border=\"1\" class=\"dataframe\">\n",
       "  <thead>\n",
       "    <tr style=\"text-align: right;\">\n",
       "      <th></th>\n",
       "      <th>capital</th>\n",
       "      <th>citizens</th>\n",
       "      <th>name</th>\n",
       "    </tr>\n",
       "  </thead>\n",
       "  <tbody>\n",
       "    <tr>\n",
       "      <th>0</th>\n",
       "      <td>Berlin</td>\n",
       "      <td>80000000</td>\n",
       "      <td>Germany</td>\n",
       "    </tr>\n",
       "    <tr>\n",
       "      <th>1</th>\n",
       "      <td>Berne</td>\n",
       "      <td>16000000</td>\n",
       "      <td>Switzerland</td>\n",
       "    </tr>\n",
       "    <tr>\n",
       "      <th>2</th>\n",
       "      <td>Vienna</td>\n",
       "      <td>16000000</td>\n",
       "      <td>Austria</td>\n",
       "    </tr>\n",
       "    <tr>\n",
       "      <th>3</th>\n",
       "      <td>Paris</td>\n",
       "      <td>60000000</td>\n",
       "      <td>France</td>\n",
       "    </tr>\n",
       "    <tr>\n",
       "      <th>4</th>\n",
       "      <td>Rome</td>\n",
       "      <td>40000000</td>\n",
       "      <td>Italy</td>\n",
       "    </tr>\n",
       "  </tbody>\n",
       "</table>\n",
       "</div>"
      ],
      "text/plain": [
       "  capital  citizens         name\n",
       "0  Berlin  80000000      Germany\n",
       "1   Berne  16000000  Switzerland\n",
       "2  Vienna  16000000      Austria\n",
       "3   Paris  60000000       France\n",
       "4    Rome  40000000        Italy"
      ]
     },
     "execution_count": 15,
     "metadata": {},
     "output_type": "execute_result"
    }
   ],
   "source": [
    "df = version.get()\n",
    "df"
   ]
  },
  {
   "cell_type": "code",
   "execution_count": 11,
   "metadata": {},
   "outputs": [
    {
     "data": {
      "text/plain": [
       "VERSION 2.4.0\n",
       "\n",
       "PROPERTIES\n",
       "----------\n",
       "ID                   d2679eee-1618-4288-a8e2-bd444e464d86    \n",
       "RECORDS              5                                       \n",
       "                                                             \n",
       "SHORT DESCRIPTION    some descritpion                        \n",
       "COMMITTED            2019-09-17 18:51:02                     \n",
       "COMMITTED BY         hippo                                   \n",
       "                                                             \n",
       "CREATED              2019-09-17 18:51:02                     \n",
       "CREATED BY           hippo                                   \n",
       "                                                             \n",
       "MODIFIED             2019-09-17 18:51:02                     \n",
       "MODIFIED BY          hippo                                   \n",
       "\n",
       "\n",
       "SCHEMA\n",
       "------\n",
       "{\n",
       "  \"type\" : \"record\",\n",
       "  \"name\" : \"Root\",\n",
       "  \"fields\" : [ {\n",
       "    \"name\" : \"capital\",\n",
       "    \"type\" : [ \"null\", \"string\" ]\n",
       "  }, {\n",
       "    \"name\" : \"citizens\",\n",
       "    \"type\" : [ \"null\", \"long\" ]\n",
       "  }, {\n",
       "    \"name\" : \"name\",\n",
       "    \"type\" : [ \"null\", \"string\" ]\n",
       "  } ]\n",
       "}"
      ]
     },
     "execution_count": 11,
     "metadata": {},
     "output_type": "execute_result"
    }
   ],
   "source": [
    "ds.put(df, 'some descritpion')"
   ]
  },
  {
   "cell_type": "code",
   "execution_count": null,
   "metadata": {},
   "outputs": [],
   "source": []
  }
 ],
 "metadata": {
  "kernelspec": {
   "display_name": "Python 3",
   "language": "python",
   "name": "python3"
  },
  "language_info": {
   "codemirror_mode": {
    "name": "ipython",
    "version": 3
   },
   "file_extension": ".py",
   "mimetype": "text/x-python",
   "name": "python",
   "nbconvert_exporter": "python",
   "pygments_lexer": "ipython3",
   "version": "3.7.3"
  }
 },
 "nbformat": 4,
 "nbformat_minor": 2
}
