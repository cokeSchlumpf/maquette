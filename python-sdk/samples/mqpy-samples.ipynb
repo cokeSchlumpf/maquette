{
 "cells": [
  {
   "cell_type": "code",
   "execution_count": 43,
   "metadata": {},
   "outputs": [],
   "source": [
    "import sys\n",
    "sys.path.append('./../src/main')\n",
    "\n",
    "import mqpy\n",
    "from mqpy import \\\n",
    "    ENamespacePrivilege as NsPrivilege, \\\n",
    "    EDatasetPrivilege as DsPrivilege, \\\n",
    "    EAuthorizationType as Auth"
   ]
  },
  {
   "cell_type": "markdown",
   "metadata": {},
   "source": [
    "## Working with namespaces"
   ]
  },
  {
   "cell_type": "code",
   "execution_count": 44,
   "metadata": {},
   "outputs": [
    {
     "data": {
      "text/html": [
       "<div>\n",
       "<style scoped>\n",
       "    .dataframe tbody tr th:only-of-type {\n",
       "        vertical-align: middle;\n",
       "    }\n",
       "\n",
       "    .dataframe tbody tr th {\n",
       "        vertical-align: top;\n",
       "    }\n",
       "\n",
       "    .dataframe thead th {\n",
       "        text-align: right;\n",
       "    }\n",
       "</style>\n",
       "<table border=\"1\" class=\"dataframe\">\n",
       "  <thead>\n",
       "    <tr style=\"text-align: right;\">\n",
       "      <th></th>\n",
       "      <th>NAME</th>\n",
       "      <th>OWNER</th>\n",
       "      <th>MODIFIED</th>\n",
       "      <th>DATASETS</th>\n",
       "    </tr>\n",
       "  </thead>\n",
       "  <tbody>\n",
       "    <tr>\n",
       "      <th>0</th>\n",
       "      <td>hippo</td>\n",
       "      <td>hippo</td>\n",
       "      <td>2019-09-22 12:13:03</td>\n",
       "      <td>0</td>\n",
       "    </tr>\n",
       "    <tr>\n",
       "      <th>1</th>\n",
       "      <td>mwellner</td>\n",
       "      <td>hippo</td>\n",
       "      <td>2019-09-22 12:13:03</td>\n",
       "      <td>0</td>\n",
       "    </tr>\n",
       "  </tbody>\n",
       "</table>\n",
       "</div>"
      ],
      "text/plain": [
       "       NAME  OWNER             MODIFIED  DATASETS\n",
       "0     hippo  hippo  2019-09-22 12:13:03         0\n",
       "1  mwellner  hippo  2019-09-22 12:13:03         0"
      ]
     },
     "execution_count": 44,
     "metadata": {},
     "output_type": "execute_result"
    }
   ],
   "source": [
    "mqpy.Namespace('mwellner').create()\n",
    "mqpy.namespaces()"
   ]
  },
  {
   "cell_type": "code",
   "execution_count": 45,
   "metadata": {},
   "outputs": [],
   "source": [
    "ns = mqpy.Namespace()"
   ]
  },
  {
   "cell_type": "code",
   "execution_count": 46,
   "metadata": {},
   "outputs": [
    {
     "name": "stdout",
     "output_type": "stream",
     "text": [
      "PROPERTIES\n",
      "----------\n",
      "OWNER          hippo                  \n",
      "                                      \n",
      "CREATED        2019-09-22 12:13:03    \n",
      "CREATED BY     hippo                  \n",
      "                                      \n",
      "MODIFIED       2019-09-22 12:13:17    \n",
      "MODIFIED BY    hippo                  \n",
      "                                      \n",
      "DATASETS       0                      \n",
      "\n",
      "\n",
      "ACCESS CONTROL\n",
      "--------------\n",
      "GRANTED TO    PRIVILEGE    GRANTED BY    GRANTED AT             \n",
      "foo           member       hippo         2019-09-22 12:13:17    \n",
      "\n",
      "\n",
      "\n",
      "---\n",
      "\n"
     ]
    },
    {
     "data": {
      "text/plain": [
       "PROPERTIES\n",
       "----------\n",
       "OWNER          hippo                  \n",
       "                                      \n",
       "CREATED        2019-09-22 12:13:03    \n",
       "CREATED BY     hippo                  \n",
       "                                      \n",
       "MODIFIED       2019-09-22 12:13:17    \n",
       "MODIFIED BY    hippo                  \n",
       "                                      \n",
       "DATASETS       0                      \n",
       "\n",
       "\n",
       "ACCESS CONTROL\n",
       "--------------\n",
       "GRANTED TO    PRIVILEGE    GRANTED BY    GRANTED AT    \n"
      ]
     },
     "execution_count": 46,
     "metadata": {},
     "output_type": "execute_result"
    }
   ],
   "source": [
    "ns \\\n",
    "    .grant(NsPrivilege.MEMBER, Auth.USER, 'foo') \\\n",
    "    .print()\n",
    "\n",
    "print()\n",
    "print('---')\n",
    "print()\n",
    "\n",
    "ns.revoke(NsPrivilege.MEMBER, Auth.USER, 'foo')"
   ]
  },
  {
   "cell_type": "markdown",
   "metadata": {},
   "source": [
    "## Working with Datasets\n",
    "\n",
    "Datasets can be access via their parent namespace object."
   ]
  },
  {
   "cell_type": "code",
   "execution_count": 47,
   "metadata": {},
   "outputs": [
    {
     "data": {
      "text/html": [
       "<div>\n",
       "<style scoped>\n",
       "    .dataframe tbody tr th:only-of-type {\n",
       "        vertical-align: middle;\n",
       "    }\n",
       "\n",
       "    .dataframe tbody tr th {\n",
       "        vertical-align: top;\n",
       "    }\n",
       "\n",
       "    .dataframe thead th {\n",
       "        text-align: right;\n",
       "    }\n",
       "</style>\n",
       "<table border=\"1\" class=\"dataframe\">\n",
       "  <thead>\n",
       "    <tr style=\"text-align: right;\">\n",
       "      <th></th>\n",
       "      <th>NAME</th>\n",
       "    </tr>\n",
       "  </thead>\n",
       "  <tbody>\n",
       "  </tbody>\n",
       "</table>\n",
       "</div>"
      ],
      "text/plain": [
       "Empty DataFrame\n",
       "Columns: [NAME]\n",
       "Index: []"
      ]
     },
     "execution_count": 47,
     "metadata": {},
     "output_type": "execute_result"
    }
   ],
   "source": [
    "ns.datasets()"
   ]
  },
  {
   "cell_type": "code",
   "execution_count": 48,
   "metadata": {},
   "outputs": [
    {
     "data": {
      "text/plain": [
       "PROPERTIES\n",
       "----------\n",
       "OWNER          hippo                  \n",
       "                                      \n",
       "CREATED        2019-09-22 12:13:21    \n",
       "CREATED BY     hippo                  \n",
       "                                      \n",
       "MODIFIED       2019-09-22 12:13:21    \n",
       "MODIFIED BY    hippo                  \n",
       "                                      \n",
       "VERSIONS       0                      \n",
       "\n",
       "\n",
       "ACCESS CONTROL\n",
       "--------------\n",
       "GRANTED TO    PRIVILEGE    GRANTED BY    GRANTED AT    \n"
      ]
     },
     "execution_count": 48,
     "metadata": {},
     "output_type": "execute_result"
    }
   ],
   "source": [
    "ds = ns.dataset('my-data')\n",
    "ds.create()"
   ]
  },
  {
   "cell_type": "code",
   "execution_count": 49,
   "metadata": {},
   "outputs": [
    {
     "name": "stdout",
     "output_type": "stream",
     "text": [
      "PROPERTIES\n",
      "----------\n",
      "OWNER          hippo                  \n",
      "                                      \n",
      "CREATED        2019-09-22 12:13:21    \n",
      "CREATED BY     hippo                  \n",
      "                                      \n",
      "MODIFIED       2019-09-22 12:13:21    \n",
      "MODIFIED BY    hippo                  \n",
      "                                      \n",
      "VERSIONS       0                      \n",
      "\n",
      "\n",
      "ACCESS CONTROL\n",
      "--------------\n",
      "GRANTED TO    PRIVILEGE    GRANTED BY    GRANTED AT             \n",
      "*             consumer     hippo         2019-09-22 12:13:23    \n",
      "\n",
      "\n",
      "\n",
      "---\n",
      "\n"
     ]
    },
    {
     "data": {
      "text/plain": [
       "PROPERTIES\n",
       "----------\n",
       "OWNER          hippo                  \n",
       "                                      \n",
       "CREATED        2019-09-22 12:13:21    \n",
       "CREATED BY     hippo                  \n",
       "                                      \n",
       "MODIFIED       2019-09-22 12:13:21    \n",
       "MODIFIED BY    hippo                  \n",
       "                                      \n",
       "VERSIONS       0                      \n",
       "\n",
       "\n",
       "ACCESS CONTROL\n",
       "--------------\n",
       "GRANTED TO    PRIVILEGE    GRANTED BY    GRANTED AT    \n"
      ]
     },
     "execution_count": 49,
     "metadata": {},
     "output_type": "execute_result"
    }
   ],
   "source": [
    "ds \\\n",
    "    .grant(DsPrivilege.CONSUMER, Auth.WILDCARD) \\\n",
    "    .print()\n",
    "\n",
    "print()\n",
    "print('---')\n",
    "print()\n",
    "\n",
    "ds \\\n",
    "    .revoke(DsPrivilege.CONSUMER, Auth.WILDCARD)"
   ]
  },
  {
   "cell_type": "code",
   "execution_count": 50,
   "metadata": {},
   "outputs": [],
   "source": [
    "# ds \\\n",
    "#    .create_consumer() \\\n",
    "#    .create_producer()"
   ]
  },
  {
   "cell_type": "code",
   "execution_count": 51,
   "metadata": {},
   "outputs": [
    {
     "data": {
      "text/plain": [
       "PROPERTIES\n",
       "----------\n",
       "OWNER          hippo                  \n",
       "                                      \n",
       "CREATED        2019-09-22 12:13:21    \n",
       "CREATED BY     hippo                  \n",
       "                                      \n",
       "MODIFIED       2019-09-22 12:13:21    \n",
       "MODIFIED BY    hippo                  \n",
       "                                      \n",
       "VERSIONS       0                      \n",
       "\n",
       "\n",
       "ACCESS CONTROL\n",
       "--------------\n",
       "GRANTED TO    PRIVILEGE    GRANTED BY    GRANTED AT    \n"
      ]
     },
     "execution_count": 51,
     "metadata": {},
     "output_type": "execute_result"
    }
   ],
   "source": [
    "ds"
   ]
  },
  {
   "cell_type": "code",
   "execution_count": 58,
   "metadata": {},
   "outputs": [
    {
     "data": {
      "text/html": [
       "<div>\n",
       "<style scoped>\n",
       "    .dataframe tbody tr th:only-of-type {\n",
       "        vertical-align: middle;\n",
       "    }\n",
       "\n",
       "    .dataframe tbody tr th {\n",
       "        vertical-align: top;\n",
       "    }\n",
       "\n",
       "    .dataframe thead th {\n",
       "        text-align: right;\n",
       "    }\n",
       "</style>\n",
       "<table border=\"1\" class=\"dataframe\">\n",
       "  <thead>\n",
       "    <tr style=\"text-align: right;\">\n",
       "      <th></th>\n",
       "      <th>VERSION</th>\n",
       "      <th>RECORDS</th>\n",
       "      <th>MODIFIED</th>\n",
       "      <th>BY</th>\n",
       "      <th>ID</th>\n",
       "    </tr>\n",
       "  </thead>\n",
       "  <tbody>\n",
       "    <tr>\n",
       "      <th>0</th>\n",
       "      <td>1.1.0</td>\n",
       "      <td>700</td>\n",
       "      <td>2019-09-22 12:32:33</td>\n",
       "      <td>hippo</td>\n",
       "      <td>429febcf-9bbd-4e79-9b76-3d1f124ec02e</td>\n",
       "    </tr>\n",
       "    <tr>\n",
       "      <th>1</th>\n",
       "      <td>1.0.0</td>\n",
       "      <td>700</td>\n",
       "      <td>2019-09-22 12:13:55</td>\n",
       "      <td>hippo</td>\n",
       "      <td>cf56dfb3-0fbc-4cd3-980a-143e325f3d77</td>\n",
       "    </tr>\n",
       "  </tbody>\n",
       "</table>\n",
       "</div>"
      ],
      "text/plain": [
       "  VERSION  RECORDS             MODIFIED     BY  \\\n",
       "0   1.1.0      700  2019-09-22 12:32:33  hippo   \n",
       "1   1.0.0      700  2019-09-22 12:13:55  hippo   \n",
       "\n",
       "                                     ID  \n",
       "0  429febcf-9bbd-4e79-9b76-3d1f124ec02e  \n",
       "1  cf56dfb3-0fbc-4cd3-980a-143e325f3d77  "
      ]
     },
     "execution_count": 58,
     "metadata": {},
     "output_type": "execute_result"
    }
   ],
   "source": [
    "ds.versions()"
   ]
  },
  {
   "cell_type": "code",
   "execution_count": 55,
   "metadata": {},
   "outputs": [
    {
     "data": {
      "text/plain": [
       "VERSION 1.0.0\n",
       "\n",
       "PROPERTIES\n",
       "----------\n",
       "ID                   cf56dfb3-0fbc-4cd3-980a-143e325f3d77    \n",
       "RECORDS              700                                     \n",
       "                                                             \n",
       "SHORT DESCRIPTION    Published from Java                     \n",
       "COMMITTED            2019-09-22 12:13:55                     \n",
       "COMMITTED BY         hippo                                   \n",
       "                                                             \n",
       "CREATED              2019-09-22 12:13:55                     \n",
       "CREATED BY           hippo                                   \n",
       "                                                             \n",
       "MODIFIED             2019-09-22 12:13:55                     \n",
       "MODIFIED BY          hippo                                   \n",
       "\n",
       "\n",
       "SCHEMA\n",
       "------\n",
       "{\n",
       "  \"type\" : \"record\",\n",
       "  \"name\" : \"Country\",\n",
       "  \"namespace\" : \"maquette.sdk.sample\",\n",
       "  \"fields\" : [ {\n",
       "    \"name\" : \"name\",\n",
       "    \"type\" : \"string\"\n",
       "  }, {\n",
       "    \"name\" : \"capital\",\n",
       "    \"type\" : \"string\"\n",
       "  }, {\n",
       "    \"name\" : \"population\",\n",
       "    \"type\" : \"int\"\n",
       "  }, {\n",
       "    \"name\" : \"area\",\n",
       "    \"type\" : \"int\"\n",
       "  } ]\n",
       "}"
      ]
     },
     "execution_count": 55,
     "metadata": {},
     "output_type": "execute_result"
    }
   ],
   "source": [
    "version = ds.version('1.0.0')\n",
    "version"
   ]
  },
  {
   "cell_type": "markdown",
   "metadata": {},
   "source": [
    "## Get and Put datasets "
   ]
  },
  {
   "cell_type": "code",
   "execution_count": 57,
   "metadata": {},
   "outputs": [
    {
     "data": {
      "text/html": [
       "<div>\n",
       "<style scoped>\n",
       "    .dataframe tbody tr th:only-of-type {\n",
       "        vertical-align: middle;\n",
       "    }\n",
       "\n",
       "    .dataframe tbody tr th {\n",
       "        vertical-align: top;\n",
       "    }\n",
       "\n",
       "    .dataframe thead th {\n",
       "        text-align: right;\n",
       "    }\n",
       "</style>\n",
       "<table border=\"1\" class=\"dataframe\">\n",
       "  <thead>\n",
       "    <tr style=\"text-align: right;\">\n",
       "      <th></th>\n",
       "      <th>area</th>\n",
       "      <th>capital</th>\n",
       "      <th>name</th>\n",
       "      <th>population</th>\n",
       "    </tr>\n",
       "  </thead>\n",
       "  <tbody>\n",
       "    <tr>\n",
       "      <th>0</th>\n",
       "      <td>9388211</td>\n",
       "      <td>Peking</td>\n",
       "      <td>China</td>\n",
       "      <td>1433783686</td>\n",
       "    </tr>\n",
       "    <tr>\n",
       "      <th>1</th>\n",
       "      <td>2973190</td>\n",
       "      <td>New-Dehli</td>\n",
       "      <td>India</td>\n",
       "      <td>1366417754</td>\n",
       "    </tr>\n",
       "    <tr>\n",
       "      <th>2</th>\n",
       "      <td>9147420</td>\n",
       "      <td>Washington D.C</td>\n",
       "      <td>United States</td>\n",
       "      <td>329064917</td>\n",
       "    </tr>\n",
       "    <tr>\n",
       "      <th>3</th>\n",
       "      <td>8400000</td>\n",
       "      <td>Sao Paolo</td>\n",
       "      <td>Brazil</td>\n",
       "      <td>211000000</td>\n",
       "    </tr>\n",
       "    <tr>\n",
       "      <th>4</th>\n",
       "      <td>164000000</td>\n",
       "      <td>Moscow</td>\n",
       "      <td>Russia</td>\n",
       "      <td>146000000</td>\n",
       "    </tr>\n",
       "  </tbody>\n",
       "</table>\n",
       "</div>"
      ],
      "text/plain": [
       "        area         capital           name  population\n",
       "0    9388211          Peking          China  1433783686\n",
       "1    2973190       New-Dehli          India  1366417754\n",
       "2    9147420  Washington D.C  United States   329064917\n",
       "3    8400000       Sao Paolo         Brazil   211000000\n",
       "4  164000000          Moscow         Russia   146000000"
      ]
     },
     "execution_count": 57,
     "metadata": {},
     "output_type": "execute_result"
    }
   ],
   "source": [
    "df = version.get()\n",
    "df.head()"
   ]
  },
  {
   "cell_type": "code",
   "execution_count": 18,
   "metadata": {},
   "outputs": [
    {
     "data": {
      "text/plain": [
       "VERSION 2.0.0\n",
       "\n",
       "PROPERTIES\n",
       "----------\n",
       "ID                   11388a48-2501-4c35-b334-336794882529    \n",
       "RECORDS              700                                     \n",
       "                                                             \n",
       "SHORT DESCRIPTION    some descritpion                        \n",
       "COMMITTED            2019-09-18 23:50:17                     \n",
       "COMMITTED BY         hippo                                   \n",
       "                                                             \n",
       "CREATED              2019-09-18 23:50:17                     \n",
       "CREATED BY           hippo                                   \n",
       "                                                             \n",
       "MODIFIED             2019-09-18 23:50:17                     \n",
       "MODIFIED BY          hippo                                   \n",
       "\n",
       "\n",
       "SCHEMA\n",
       "------\n",
       "{\n",
       "  \"type\" : \"record\",\n",
       "  \"name\" : \"Root\",\n",
       "  \"fields\" : [ {\n",
       "    \"name\" : \"area\",\n",
       "    \"type\" : [ \"null\", \"long\" ]\n",
       "  }, {\n",
       "    \"name\" : \"capital\",\n",
       "    \"type\" : [ \"null\", \"string\" ]\n",
       "  }, {\n",
       "    \"name\" : \"name\",\n",
       "    \"type\" : [ \"null\", \"string\" ]\n",
       "  }, {\n",
       "    \"name\" : \"population\",\n",
       "    \"type\" : [ \"null\", \"long\" ]\n",
       "  } ]\n",
       "}"
      ]
     },
     "execution_count": 18,
     "metadata": {},
     "output_type": "execute_result"
    }
   ],
   "source": [
    "ds.put(df, 'some descritpion')"
   ]
  },
  {
   "cell_type": "code",
   "execution_count": null,
   "metadata": {},
   "outputs": [],
   "source": []
  },
  {
   "cell_type": "markdown",
   "metadata": {},
   "source": [
    "# Admin functions"
   ]
  },
  {
   "cell_type": "code",
   "execution_count": 11,
   "metadata": {},
   "outputs": [
    {
     "data": {
      "text/html": [
       "<div>\n",
       "<style scoped>\n",
       "    .dataframe tbody tr th:only-of-type {\n",
       "        vertical-align: middle;\n",
       "    }\n",
       "\n",
       "    .dataframe tbody tr th {\n",
       "        vertical-align: top;\n",
       "    }\n",
       "\n",
       "    .dataframe thead th {\n",
       "        text-align: right;\n",
       "    }\n",
       "</style>\n",
       "<table border=\"1\" class=\"dataframe\">\n",
       "  <thead>\n",
       "    <tr style=\"text-align: right;\">\n",
       "      <th></th>\n",
       "      <th>NAME</th>\n",
       "      <th>ID</th>\n",
       "      <th>CREATED</th>\n",
       "      <th>CREATED BY</th>\n",
       "      <th>MODIFIED</th>\n",
       "      <th>MODIFIED BY</th>\n",
       "    </tr>\n",
       "  </thead>\n",
       "  <tbody>\n",
       "    <tr>\n",
       "      <th>0</th>\n",
       "      <td>producer-13af7c46</td>\n",
       "      <td>67aec40b-1db7-4b9d-add1-b1f0798db2c1</td>\n",
       "      <td>2019-09-18 22:15:01</td>\n",
       "      <td>hippo</td>\n",
       "      <td>2019-09-18 22:15:01</td>\n",
       "      <td>hippo</td>\n",
       "    </tr>\n",
       "    <tr>\n",
       "      <th>1</th>\n",
       "      <td>consumer-ff9e9da2</td>\n",
       "      <td>c6d62126-e80a-4a39-99e3-a8d98eb28bc6</td>\n",
       "      <td>2019-09-18 22:15:01</td>\n",
       "      <td>hippo</td>\n",
       "      <td>2019-09-18 22:15:01</td>\n",
       "      <td>hippo</td>\n",
       "    </tr>\n",
       "  </tbody>\n",
       "</table>\n",
       "</div>"
      ],
      "text/plain": [
       "                NAME                                    ID  \\\n",
       "0  producer-13af7c46  67aec40b-1db7-4b9d-add1-b1f0798db2c1   \n",
       "1  consumer-ff9e9da2  c6d62126-e80a-4a39-99e3-a8d98eb28bc6   \n",
       "\n",
       "               CREATED CREATED BY             MODIFIED MODIFIED BY  \n",
       "0  2019-09-18 22:15:01      hippo  2019-09-18 22:15:01       hippo  \n",
       "1  2019-09-18 22:15:01      hippo  2019-09-18 22:15:01       hippo  "
      ]
     },
     "execution_count": 11,
     "metadata": {},
     "output_type": "execute_result"
    }
   ],
   "source": [
    "mqpy.admin().tokens()"
   ]
  },
  {
   "cell_type": "code",
   "execution_count": 12,
   "metadata": {},
   "outputs": [
    {
     "name": "stdout",
     "output_type": "stream",
     "text": [
      "Renewed token 'producer-13af7c46' with secret 'ef85683f-30d8-42a9-b82d-a15dcd01f0d3'\n"
     ]
    }
   ],
   "source": [
    "mqpy.admin().renew_token('producer-13af7c46')"
   ]
  },
  {
   "cell_type": "code",
   "execution_count": 13,
   "metadata": {},
   "outputs": [
    {
     "data": {
      "text/html": [
       "<div>\n",
       "<style scoped>\n",
       "    .dataframe tbody tr th:only-of-type {\n",
       "        vertical-align: middle;\n",
       "    }\n",
       "\n",
       "    .dataframe tbody tr th {\n",
       "        vertical-align: top;\n",
       "    }\n",
       "\n",
       "    .dataframe thead th {\n",
       "        text-align: right;\n",
       "    }\n",
       "</style>\n",
       "<table border=\"1\" class=\"dataframe\">\n",
       "  <thead>\n",
       "    <tr style=\"text-align: right;\">\n",
       "      <th></th>\n",
       "      <th>NAME</th>\n",
       "      <th>ID</th>\n",
       "      <th>CREATED</th>\n",
       "      <th>CREATED BY</th>\n",
       "      <th>MODIFIED</th>\n",
       "      <th>MODIFIED BY</th>\n",
       "    </tr>\n",
       "  </thead>\n",
       "  <tbody>\n",
       "    <tr>\n",
       "      <th>0</th>\n",
       "      <td>producer-13af7c46</td>\n",
       "      <td>67aec40b-1db7-4b9d-add1-b1f0798db2c1</td>\n",
       "      <td>2019-09-18 22:15:01</td>\n",
       "      <td>hippo</td>\n",
       "      <td>2019-09-18 22:45:38</td>\n",
       "      <td>hippo</td>\n",
       "    </tr>\n",
       "    <tr>\n",
       "      <th>1</th>\n",
       "      <td>consumer-ff9e9da2</td>\n",
       "      <td>c6d62126-e80a-4a39-99e3-a8d98eb28bc6</td>\n",
       "      <td>2019-09-18 22:15:01</td>\n",
       "      <td>hippo</td>\n",
       "      <td>2019-09-18 22:15:01</td>\n",
       "      <td>hippo</td>\n",
       "    </tr>\n",
       "  </tbody>\n",
       "</table>\n",
       "</div>"
      ],
      "text/plain": [
       "                NAME                                    ID  \\\n",
       "0  producer-13af7c46  67aec40b-1db7-4b9d-add1-b1f0798db2c1   \n",
       "1  consumer-ff9e9da2  c6d62126-e80a-4a39-99e3-a8d98eb28bc6   \n",
       "\n",
       "               CREATED CREATED BY             MODIFIED MODIFIED BY  \n",
       "0  2019-09-18 22:15:01      hippo  2019-09-18 22:45:38       hippo  \n",
       "1  2019-09-18 22:15:01      hippo  2019-09-18 22:15:01       hippo  "
      ]
     },
     "execution_count": 13,
     "metadata": {},
     "output_type": "execute_result"
    }
   ],
   "source": [
    "mqpy.admin().tokens()"
   ]
  },
  {
   "cell_type": "code",
   "execution_count": null,
   "metadata": {},
   "outputs": [],
   "source": []
  }
 ],
 "metadata": {
  "kernelspec": {
   "display_name": "Python 3",
   "language": "python",
   "name": "python3"
  },
  "language_info": {
   "codemirror_mode": {
    "name": "ipython",
    "version": 3
   },
   "file_extension": ".py",
   "mimetype": "text/x-python",
   "name": "python",
   "nbconvert_exporter": "python",
   "pygments_lexer": "ipython3",
   "version": "3.7.3"
  }
 },
 "nbformat": 4,
 "nbformat_minor": 2
}
