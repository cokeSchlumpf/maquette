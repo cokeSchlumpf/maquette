{
 "cells": [
  {
   "cell_type": "code",
   "execution_count": 1,
   "metadata": {},
   "outputs": [],
   "source": [
    "import sys\n",
    "sys.path.append('./../src/main')\n",
    "\n",
    "import mqpy\n",
    "from mqpy import \\\n",
    "    ENamespacePrivilege as NsPrivilege, \\\n",
    "    EDatasetPrivilege as DsPrivilege, \\\n",
    "    EAuthorizationType as Auth"
   ]
  },
  {
   "cell_type": "markdown",
   "metadata": {},
   "source": [
    "## Working with namespaces"
   ]
  },
  {
   "cell_type": "code",
   "execution_count": 2,
   "metadata": {},
   "outputs": [
    {
     "data": {
      "text/html": [
       "<div>\n",
       "<style scoped>\n",
       "    .dataframe tbody tr th:only-of-type {\n",
       "        vertical-align: middle;\n",
       "    }\n",
       "\n",
       "    .dataframe tbody tr th {\n",
       "        vertical-align: top;\n",
       "    }\n",
       "\n",
       "    .dataframe thead th {\n",
       "        text-align: right;\n",
       "    }\n",
       "</style>\n",
       "<table border=\"1\" class=\"dataframe\">\n",
       "  <thead>\n",
       "    <tr style=\"text-align: right;\">\n",
       "      <th></th>\n",
       "      <th>NAME</th>\n",
       "      <th>OWNER</th>\n",
       "      <th>MODIFIED</th>\n",
       "      <th>DATASETS</th>\n",
       "    </tr>\n",
       "  </thead>\n",
       "  <tbody>\n",
       "    <tr>\n",
       "      <th>0</th>\n",
       "      <td>hippo</td>\n",
       "      <td>hippo</td>\n",
       "      <td>2019-09-17 18:51:02</td>\n",
       "      <td>1</td>\n",
       "    </tr>\n",
       "    <tr>\n",
       "      <th>1</th>\n",
       "      <td>mwellner</td>\n",
       "      <td>hippo</td>\n",
       "      <td>2019-09-17 01:03:20</td>\n",
       "      <td>0</td>\n",
       "    </tr>\n",
       "  </tbody>\n",
       "</table>\n",
       "</div>"
      ],
      "text/plain": [
       "       NAME  OWNER             MODIFIED  DATASETS\n",
       "0     hippo  hippo  2019-09-17 18:51:02         1\n",
       "1  mwellner  hippo  2019-09-17 01:03:20         0"
      ]
     },
     "execution_count": 2,
     "metadata": {},
     "output_type": "execute_result"
    }
   ],
   "source": [
    "mqpy.Namespace('mwellner').create()\n",
    "mqpy.namespaces()"
   ]
  },
  {
   "cell_type": "code",
   "execution_count": 3,
   "metadata": {},
   "outputs": [],
   "source": [
    "ns = mqpy.Namespace()"
   ]
  },
  {
   "cell_type": "code",
   "execution_count": 4,
   "metadata": {},
   "outputs": [
    {
     "name": "stdout",
     "output_type": "stream",
     "text": [
      "PROPERTIES\n",
      "----------\n",
      "OWNER          hippo                  \n",
      "                                      \n",
      "CREATED        2019-09-17 00:18:21    \n",
      "CREATED BY     hippo                  \n",
      "                                      \n",
      "MODIFIED       2019-09-17 18:51:02    \n",
      "MODIFIED BY    hippo                  \n",
      "                                      \n",
      "DATASETS       1                      \n",
      "\n",
      "\n",
      "ACCESS CONTROL\n",
      "--------------\n",
      "GRANTED TO    PRIVILEGE    GRANTED BY    GRANTED AT             \n",
      "foo           member       hippo         2019-09-17 18:51:02    \n",
      "\n",
      "\n",
      "\n",
      "---\n",
      "\n"
     ]
    },
    {
     "data": {
      "text/plain": [
       "PROPERTIES\n",
       "----------\n",
       "OWNER          hippo                  \n",
       "                                      \n",
       "CREATED        2019-09-17 00:18:21    \n",
       "CREATED BY     hippo                  \n",
       "                                      \n",
       "MODIFIED       2019-09-17 18:51:02    \n",
       "MODIFIED BY    hippo                  \n",
       "                                      \n",
       "DATASETS       1                      \n",
       "\n",
       "\n",
       "ACCESS CONTROL\n",
       "--------------\n",
       "GRANTED TO    PRIVILEGE    GRANTED BY    GRANTED AT    \n"
      ]
     },
     "execution_count": 4,
     "metadata": {},
     "output_type": "execute_result"
    }
   ],
   "source": [
    "ns \\\n",
    "    .grant(NsPrivilege.MEMBER, Auth.USER, 'foo') \\\n",
    "    .print()\n",
    "\n",
    "print()\n",
    "print('---')\n",
    "print()\n",
    "\n",
    "ns.revoke(NsPrivilege.MEMBER, Auth.USER, 'foo')"
   ]
  },
  {
   "cell_type": "markdown",
   "metadata": {},
   "source": [
    "## Working with Datasets\n",
    "\n",
    "Datasets can be access via their parent namespace object."
   ]
  },
  {
   "cell_type": "code",
   "execution_count": 4,
   "metadata": {},
   "outputs": [
    {
     "data": {
      "text/html": [
       "<div>\n",
       "<style scoped>\n",
       "    .dataframe tbody tr th:only-of-type {\n",
       "        vertical-align: middle;\n",
       "    }\n",
       "\n",
       "    .dataframe tbody tr th {\n",
       "        vertical-align: top;\n",
       "    }\n",
       "\n",
       "    .dataframe thead th {\n",
       "        text-align: right;\n",
       "    }\n",
       "</style>\n",
       "<table border=\"1\" class=\"dataframe\">\n",
       "  <thead>\n",
       "    <tr style=\"text-align: right;\">\n",
       "      <th></th>\n",
       "      <th>NAME</th>\n",
       "    </tr>\n",
       "  </thead>\n",
       "  <tbody>\n",
       "    <tr>\n",
       "      <th>0</th>\n",
       "      <td>my-data</td>\n",
       "    </tr>\n",
       "  </tbody>\n",
       "</table>\n",
       "</div>"
      ],
      "text/plain": [
       "      NAME\n",
       "0  my-data"
      ]
     },
     "execution_count": 4,
     "metadata": {},
     "output_type": "execute_result"
    }
   ],
   "source": [
    "ns.datasets()"
   ]
  },
  {
   "cell_type": "code",
   "execution_count": 6,
   "metadata": {},
   "outputs": [
    {
     "data": {
      "text/plain": [
       "PROPERTIES\n",
       "----------\n",
       "OWNER          hippo                  \n",
       "                                      \n",
       "CREATED        2019-09-18 18:45:17    \n",
       "CREATED BY     hippo                  \n",
       "                                      \n",
       "MODIFIED       2019-09-18 18:45:17    \n",
       "MODIFIED BY    hippo                  \n",
       "                                      \n",
       "VERSIONS       9                      \n",
       "\n",
       "\n",
       "ACCESS CONTROL\n",
       "--------------\n",
       "GRANTED TO    PRIVILEGE    GRANTED BY    GRANTED AT    \n"
      ]
     },
     "execution_count": 6,
     "metadata": {},
     "output_type": "execute_result"
    }
   ],
   "source": [
    "ds = ns.dataset('my-data')\n",
    "ds.create()"
   ]
  },
  {
   "cell_type": "code",
   "execution_count": 7,
   "metadata": {},
   "outputs": [
    {
     "name": "stdout",
     "output_type": "stream",
     "text": [
      "PROPERTIES\n",
      "----------\n",
      "OWNER          hippo                  \n",
      "                                      \n",
      "CREATED        2019-09-18 18:45:17    \n",
      "CREATED BY     hippo                  \n",
      "                                      \n",
      "MODIFIED       2019-09-18 18:45:17    \n",
      "MODIFIED BY    hippo                  \n",
      "                                      \n",
      "VERSIONS       9                      \n",
      "\n",
      "\n",
      "ACCESS CONTROL\n",
      "--------------\n",
      "GRANTED TO    PRIVILEGE    GRANTED BY    GRANTED AT             \n",
      "*             consumer     hippo         2019-09-18 18:47:07    \n",
      "\n",
      "\n",
      "\n",
      "---\n",
      "\n"
     ]
    },
    {
     "data": {
      "text/plain": [
       "PROPERTIES\n",
       "----------\n",
       "OWNER          hippo                  \n",
       "                                      \n",
       "CREATED        2019-09-18 18:45:17    \n",
       "CREATED BY     hippo                  \n",
       "                                      \n",
       "MODIFIED       2019-09-18 18:45:17    \n",
       "MODIFIED BY    hippo                  \n",
       "                                      \n",
       "VERSIONS       9                      \n",
       "\n",
       "\n",
       "ACCESS CONTROL\n",
       "--------------\n",
       "GRANTED TO    PRIVILEGE    GRANTED BY    GRANTED AT    \n"
      ]
     },
     "execution_count": 7,
     "metadata": {},
     "output_type": "execute_result"
    }
   ],
   "source": [
    "ds \\\n",
    "    .grant(DsPrivilege.CONSUMER, Auth.WILDCARD) \\\n",
    "    .print()\n",
    "\n",
    "print()\n",
    "print('---')\n",
    "print()\n",
    "\n",
    "ds \\\n",
    "    .revoke(DsPrivilege.CONSUMER, Auth.WILDCARD)"
   ]
  },
  {
   "cell_type": "code",
   "execution_count": 14,
   "metadata": {},
   "outputs": [
    {
     "data": {
      "text/html": [
       "<div>\n",
       "<style scoped>\n",
       "    .dataframe tbody tr th:only-of-type {\n",
       "        vertical-align: middle;\n",
       "    }\n",
       "\n",
       "    .dataframe tbody tr th {\n",
       "        vertical-align: top;\n",
       "    }\n",
       "\n",
       "    .dataframe thead th {\n",
       "        text-align: right;\n",
       "    }\n",
       "</style>\n",
       "<table border=\"1\" class=\"dataframe\">\n",
       "  <thead>\n",
       "    <tr style=\"text-align: right;\">\n",
       "      <th></th>\n",
       "      <th>VERSION</th>\n",
       "      <th>RECORDS</th>\n",
       "      <th>MODIFIED</th>\n",
       "      <th>BY</th>\n",
       "      <th>ID</th>\n",
       "    </tr>\n",
       "  </thead>\n",
       "  <tbody>\n",
       "    <tr>\n",
       "      <th>0</th>\n",
       "      <td>-</td>\n",
       "      <td>100</td>\n",
       "      <td>2019-09-18 19:28:38</td>\n",
       "      <td>hippo</td>\n",
       "      <td>69caded5-103a-4cf1-9880-bb8e632d2f3a</td>\n",
       "    </tr>\n",
       "    <tr>\n",
       "      <th>1</th>\n",
       "      <td>-</td>\n",
       "      <td>100</td>\n",
       "      <td>2019-09-18 19:34:02</td>\n",
       "      <td>hippo</td>\n",
       "      <td>3fa34c43-cca2-4253-9e2a-311be51f4e43</td>\n",
       "    </tr>\n",
       "    <tr>\n",
       "      <th>2</th>\n",
       "      <td>-</td>\n",
       "      <td>0</td>\n",
       "      <td>2019-09-18 18:45:17</td>\n",
       "      <td>hippo</td>\n",
       "      <td>8ad3b887-5986-4638-84ee-c9dd057c5eea</td>\n",
       "    </tr>\n",
       "    <tr>\n",
       "      <th>3</th>\n",
       "      <td>-</td>\n",
       "      <td>100</td>\n",
       "      <td>2019-09-18 19:29:17</td>\n",
       "      <td>hippo</td>\n",
       "      <td>4e54e1b0-dade-445d-bd82-b17ff3900619</td>\n",
       "    </tr>\n",
       "    <tr>\n",
       "      <th>4</th>\n",
       "      <td>-</td>\n",
       "      <td>100</td>\n",
       "      <td>2019-09-18 19:32:03</td>\n",
       "      <td>hippo</td>\n",
       "      <td>a5a1ff6d-14e4-4fa3-b6c0-573f6faa868f</td>\n",
       "    </tr>\n",
       "    <tr>\n",
       "      <th>5</th>\n",
       "      <td>-</td>\n",
       "      <td>0</td>\n",
       "      <td>2019-09-18 19:16:22</td>\n",
       "      <td>hippo</td>\n",
       "      <td>1216d875-eadb-4a5c-af6c-0c12c81c525f</td>\n",
       "    </tr>\n",
       "    <tr>\n",
       "      <th>6</th>\n",
       "      <td>-</td>\n",
       "      <td>100</td>\n",
       "      <td>2019-09-18 19:33:11</td>\n",
       "      <td>hippo</td>\n",
       "      <td>29bb4a6d-a69a-4520-b83c-a818a5278e64</td>\n",
       "    </tr>\n",
       "    <tr>\n",
       "      <th>7</th>\n",
       "      <td>-</td>\n",
       "      <td>100</td>\n",
       "      <td>2019-09-18 19:32:31</td>\n",
       "      <td>hippo</td>\n",
       "      <td>9d304abf-b748-4cf4-a2e2-7de570b66e6e</td>\n",
       "    </tr>\n",
       "    <tr>\n",
       "      <th>8</th>\n",
       "      <td>3.1.0</td>\n",
       "      <td>100</td>\n",
       "      <td>2019-09-18 19:38:35</td>\n",
       "      <td>hippo</td>\n",
       "      <td>213b31d3-67e8-44f1-9f2b-fbe3ec280f50</td>\n",
       "    </tr>\n",
       "    <tr>\n",
       "      <th>9</th>\n",
       "      <td>3.0.0</td>\n",
       "      <td>100</td>\n",
       "      <td>2019-09-18 19:37:08</td>\n",
       "      <td>hippo</td>\n",
       "      <td>4554ccaa-a292-4d44-afc7-4c697e5ded3c</td>\n",
       "    </tr>\n",
       "    <tr>\n",
       "      <th>10</th>\n",
       "      <td>2.4.0</td>\n",
       "      <td>5</td>\n",
       "      <td>2019-09-17 18:51:02</td>\n",
       "      <td>hippo</td>\n",
       "      <td>d2679eee-1618-4288-a8e2-bd444e464d86</td>\n",
       "    </tr>\n",
       "    <tr>\n",
       "      <th>11</th>\n",
       "      <td>2.3.0</td>\n",
       "      <td>5</td>\n",
       "      <td>2019-09-17 18:47:42</td>\n",
       "      <td>hippo</td>\n",
       "      <td>2f78c760-8063-4774-babb-251b7756de62</td>\n",
       "    </tr>\n",
       "    <tr>\n",
       "      <th>12</th>\n",
       "      <td>2.2.0</td>\n",
       "      <td>5</td>\n",
       "      <td>2019-09-17 18:47:15</td>\n",
       "      <td>hippo</td>\n",
       "      <td>17cf336d-02f8-40b0-96e4-bcb50fcdbc50</td>\n",
       "    </tr>\n",
       "    <tr>\n",
       "      <th>13</th>\n",
       "      <td>2.1.0</td>\n",
       "      <td>5</td>\n",
       "      <td>2019-09-17 18:46:08</td>\n",
       "      <td>hippo</td>\n",
       "      <td>81b4f255-54b7-4194-b5cb-2db800a3d70c</td>\n",
       "    </tr>\n",
       "    <tr>\n",
       "      <th>14</th>\n",
       "      <td>2.0.0</td>\n",
       "      <td>5</td>\n",
       "      <td>2019-09-17 18:45:17</td>\n",
       "      <td>hippo</td>\n",
       "      <td>f088466c-4753-4d94-b101-59115f77cd98</td>\n",
       "    </tr>\n",
       "    <tr>\n",
       "      <th>15</th>\n",
       "      <td>1.2.0</td>\n",
       "      <td>5</td>\n",
       "      <td>2019-09-17 18:39:19</td>\n",
       "      <td>hippo</td>\n",
       "      <td>a73848d1-4c64-4aea-9390-997126b1d86b</td>\n",
       "    </tr>\n",
       "    <tr>\n",
       "      <th>16</th>\n",
       "      <td>1.1.0</td>\n",
       "      <td>5</td>\n",
       "      <td>2019-09-17 00:46:26</td>\n",
       "      <td>hippo</td>\n",
       "      <td>51074143-5908-40a1-bd31-99907ed74d16</td>\n",
       "    </tr>\n",
       "    <tr>\n",
       "      <th>17</th>\n",
       "      <td>1.0.0</td>\n",
       "      <td>5</td>\n",
       "      <td>2019-09-17 00:19:05</td>\n",
       "      <td>hippo</td>\n",
       "      <td>f909ce31-4b77-49be-b31c-1d4d9b7a0886</td>\n",
       "    </tr>\n",
       "  </tbody>\n",
       "</table>\n",
       "</div>"
      ],
      "text/plain": [
       "   VERSION  RECORDS             MODIFIED     BY  \\\n",
       "0        -      100  2019-09-18 19:28:38  hippo   \n",
       "1        -      100  2019-09-18 19:34:02  hippo   \n",
       "2        -        0  2019-09-18 18:45:17  hippo   \n",
       "3        -      100  2019-09-18 19:29:17  hippo   \n",
       "4        -      100  2019-09-18 19:32:03  hippo   \n",
       "5        -        0  2019-09-18 19:16:22  hippo   \n",
       "6        -      100  2019-09-18 19:33:11  hippo   \n",
       "7        -      100  2019-09-18 19:32:31  hippo   \n",
       "8    3.1.0      100  2019-09-18 19:38:35  hippo   \n",
       "9    3.0.0      100  2019-09-18 19:37:08  hippo   \n",
       "10   2.4.0        5  2019-09-17 18:51:02  hippo   \n",
       "11   2.3.0        5  2019-09-17 18:47:42  hippo   \n",
       "12   2.2.0        5  2019-09-17 18:47:15  hippo   \n",
       "13   2.1.0        5  2019-09-17 18:46:08  hippo   \n",
       "14   2.0.0        5  2019-09-17 18:45:17  hippo   \n",
       "15   1.2.0        5  2019-09-17 18:39:19  hippo   \n",
       "16   1.1.0        5  2019-09-17 00:46:26  hippo   \n",
       "17   1.0.0        5  2019-09-17 00:19:05  hippo   \n",
       "\n",
       "                                      ID  \n",
       "0   69caded5-103a-4cf1-9880-bb8e632d2f3a  \n",
       "1   3fa34c43-cca2-4253-9e2a-311be51f4e43  \n",
       "2   8ad3b887-5986-4638-84ee-c9dd057c5eea  \n",
       "3   4e54e1b0-dade-445d-bd82-b17ff3900619  \n",
       "4   a5a1ff6d-14e4-4fa3-b6c0-573f6faa868f  \n",
       "5   1216d875-eadb-4a5c-af6c-0c12c81c525f  \n",
       "6   29bb4a6d-a69a-4520-b83c-a818a5278e64  \n",
       "7   9d304abf-b748-4cf4-a2e2-7de570b66e6e  \n",
       "8   213b31d3-67e8-44f1-9f2b-fbe3ec280f50  \n",
       "9   4554ccaa-a292-4d44-afc7-4c697e5ded3c  \n",
       "10  d2679eee-1618-4288-a8e2-bd444e464d86  \n",
       "11  2f78c760-8063-4774-babb-251b7756de62  \n",
       "12  17cf336d-02f8-40b0-96e4-bcb50fcdbc50  \n",
       "13  81b4f255-54b7-4194-b5cb-2db800a3d70c  \n",
       "14  f088466c-4753-4d94-b101-59115f77cd98  \n",
       "15  a73848d1-4c64-4aea-9390-997126b1d86b  \n",
       "16  51074143-5908-40a1-bd31-99907ed74d16  \n",
       "17  f909ce31-4b77-49be-b31c-1d4d9b7a0886  "
      ]
     },
     "execution_count": 14,
     "metadata": {},
     "output_type": "execute_result"
    }
   ],
   "source": [
    "ds.versions()"
   ]
  },
  {
   "cell_type": "code",
   "execution_count": 10,
   "metadata": {},
   "outputs": [
    {
     "data": {
      "text/plain": [
       "VERSION 3.0.0\n",
       "\n",
       "PROPERTIES\n",
       "----------\n",
       "ID                   4554ccaa-a292-4d44-afc7-4c697e5ded3c    \n",
       "RECORDS              100                                     \n",
       "                                                             \n",
       "SHORT DESCRIPTION    Published from Java                     \n",
       "COMMITTED            2019-09-18 19:37:08                     \n",
       "COMMITTED BY         hippo                                   \n",
       "                                                             \n",
       "CREATED              2019-09-18 19:37:08                     \n",
       "CREATED BY           hippo                                   \n",
       "                                                             \n",
       "MODIFIED             2019-09-18 19:37:08                     \n",
       "MODIFIED BY          hippo                                   \n",
       "\n",
       "\n",
       "SCHEMA\n",
       "------\n",
       "{\n",
       "  \"type\" : \"record\",\n",
       "  \"name\" : \"TestType\",\n",
       "  \"namespace\" : \"maquette.sdk\",\n",
       "  \"fields\" : [ {\n",
       "    \"name\" : \"bar\",\n",
       "    \"type\" : [ \"null\", \"string\" ]\n",
       "  }, {\n",
       "    \"name\" : \"foo\",\n",
       "    \"type\" : [ \"null\", \"string\" ]\n",
       "  } ]\n",
       "}"
      ]
     },
     "execution_count": 10,
     "metadata": {},
     "output_type": "execute_result"
    }
   ],
   "source": [
    "version = ds.version('3.0.0')\n",
    "version"
   ]
  },
  {
   "cell_type": "markdown",
   "metadata": {},
   "source": [
    "## Get and Put datasets "
   ]
  },
  {
   "cell_type": "code",
   "execution_count": 12,
   "metadata": {},
   "outputs": [
    {
     "data": {
      "text/html": [
       "<div>\n",
       "<style scoped>\n",
       "    .dataframe tbody tr th:only-of-type {\n",
       "        vertical-align: middle;\n",
       "    }\n",
       "\n",
       "    .dataframe tbody tr th {\n",
       "        vertical-align: top;\n",
       "    }\n",
       "\n",
       "    .dataframe thead th {\n",
       "        text-align: right;\n",
       "    }\n",
       "</style>\n",
       "<table border=\"1\" class=\"dataframe\">\n",
       "  <thead>\n",
       "    <tr style=\"text-align: right;\">\n",
       "      <th></th>\n",
       "      <th>bar</th>\n",
       "      <th>foo</th>\n",
       "    </tr>\n",
       "  </thead>\n",
       "  <tbody>\n",
       "    <tr>\n",
       "      <th>0</th>\n",
       "      <td>bar0</td>\n",
       "      <td>foo</td>\n",
       "    </tr>\n",
       "    <tr>\n",
       "      <th>1</th>\n",
       "      <td>bar1</td>\n",
       "      <td>foo</td>\n",
       "    </tr>\n",
       "    <tr>\n",
       "      <th>2</th>\n",
       "      <td>bar2</td>\n",
       "      <td>foo</td>\n",
       "    </tr>\n",
       "    <tr>\n",
       "      <th>3</th>\n",
       "      <td>bar3</td>\n",
       "      <td>foo</td>\n",
       "    </tr>\n",
       "    <tr>\n",
       "      <th>4</th>\n",
       "      <td>bar4</td>\n",
       "      <td>foo</td>\n",
       "    </tr>\n",
       "  </tbody>\n",
       "</table>\n",
       "</div>"
      ],
      "text/plain": [
       "    bar  foo\n",
       "0  bar0  foo\n",
       "1  bar1  foo\n",
       "2  bar2  foo\n",
       "3  bar3  foo\n",
       "4  bar4  foo"
      ]
     },
     "execution_count": 12,
     "metadata": {},
     "output_type": "execute_result"
    }
   ],
   "source": [
    "df = version.get()\n",
    "df.head()"
   ]
  },
  {
   "cell_type": "code",
   "execution_count": 13,
   "metadata": {},
   "outputs": [
    {
     "data": {
      "text/plain": [
       "VERSION 3.1.0\n",
       "\n",
       "PROPERTIES\n",
       "----------\n",
       "ID                   213b31d3-67e8-44f1-9f2b-fbe3ec280f50    \n",
       "RECORDS              100                                     \n",
       "                                                             \n",
       "SHORT DESCRIPTION    some descritpion                        \n",
       "COMMITTED            2019-09-18 19:38:35                     \n",
       "COMMITTED BY         hippo                                   \n",
       "                                                             \n",
       "CREATED              2019-09-18 19:38:35                     \n",
       "CREATED BY           hippo                                   \n",
       "                                                             \n",
       "MODIFIED             2019-09-18 19:38:35                     \n",
       "MODIFIED BY          hippo                                   \n",
       "\n",
       "\n",
       "SCHEMA\n",
       "------\n",
       "{\n",
       "  \"type\" : \"record\",\n",
       "  \"name\" : \"Root\",\n",
       "  \"fields\" : [ {\n",
       "    \"name\" : \"bar\",\n",
       "    \"type\" : [ \"null\", \"string\" ]\n",
       "  }, {\n",
       "    \"name\" : \"foo\",\n",
       "    \"type\" : [ \"null\", \"string\" ]\n",
       "  } ]\n",
       "}"
      ]
     },
     "execution_count": 13,
     "metadata": {},
     "output_type": "execute_result"
    }
   ],
   "source": [
    "ds.put(df, 'some descritpion')"
   ]
  },
  {
   "cell_type": "code",
   "execution_count": null,
   "metadata": {},
   "outputs": [],
   "source": []
  }
 ],
 "metadata": {
  "kernelspec": {
   "display_name": "Python 3",
   "language": "python",
   "name": "python3"
  },
  "language_info": {
   "codemirror_mode": {
    "name": "ipython",
    "version": 3
   },
   "file_extension": ".py",
   "mimetype": "text/x-python",
   "name": "python",
   "nbconvert_exporter": "python",
   "pygments_lexer": "ipython3",
   "version": "3.7.3"
  }
 },
 "nbformat": 4,
 "nbformat_minor": 2
}
