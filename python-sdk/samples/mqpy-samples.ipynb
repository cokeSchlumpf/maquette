{
 "cells": [
  {
   "cell_type": "code",
   "execution_count": 12,
   "metadata": {},
   "outputs": [],
   "source": [
    "import sys\n",
    "sys.path.append('./../src/main')\n",
    "\n",
    "import mqpy\n",
    "from mqpy import \\\n",
    "    ENamespacePrivilege as NsPrivilege, \\\n",
    "    EDatasetPrivilege as DsPrivilege, \\\n",
    "    EAuthorizationType as Auth"
   ]
  },
  {
   "cell_type": "markdown",
   "metadata": {},
   "source": [
    "## Working with namespaces"
   ]
  },
  {
   "cell_type": "code",
   "execution_count": 2,
   "metadata": {},
   "outputs": [
    {
     "data": {
      "text/html": [
       "<div>\n",
       "<style scoped>\n",
       "    .dataframe tbody tr th:only-of-type {\n",
       "        vertical-align: middle;\n",
       "    }\n",
       "\n",
       "    .dataframe tbody tr th {\n",
       "        vertical-align: top;\n",
       "    }\n",
       "\n",
       "    .dataframe thead th {\n",
       "        text-align: right;\n",
       "    }\n",
       "</style>\n",
       "<table border=\"1\" class=\"dataframe\">\n",
       "  <thead>\n",
       "    <tr style=\"text-align: right;\">\n",
       "      <th></th>\n",
       "      <th>NAME</th>\n",
       "      <th>OWNER</th>\n",
       "      <th>MODIFIED</th>\n",
       "      <th>DATASETS</th>\n",
       "    </tr>\n",
       "  </thead>\n",
       "  <tbody>\n",
       "    <tr>\n",
       "      <th>0</th>\n",
       "      <td>hippo</td>\n",
       "      <td>hippo</td>\n",
       "      <td>2019-09-17 17:38:11</td>\n",
       "      <td>1</td>\n",
       "    </tr>\n",
       "    <tr>\n",
       "      <th>1</th>\n",
       "      <td>mwellner</td>\n",
       "      <td>hippo</td>\n",
       "      <td>2019-09-17 01:03:20</td>\n",
       "      <td>0</td>\n",
       "    </tr>\n",
       "  </tbody>\n",
       "</table>\n",
       "</div>"
      ],
      "text/plain": [
       "       NAME  OWNER             MODIFIED  DATASETS\n",
       "0     hippo  hippo  2019-09-17 17:38:11         1\n",
       "1  mwellner  hippo  2019-09-17 01:03:20         0"
      ]
     },
     "execution_count": 2,
     "metadata": {},
     "output_type": "execute_result"
    }
   ],
   "source": [
    "mqpy.Namespace('mwellner').create()\n",
    "mqpy.namespaces()"
   ]
  },
  {
   "cell_type": "code",
   "execution_count": 3,
   "metadata": {},
   "outputs": [],
   "source": [
    "ns = mqpy.Namespace()"
   ]
  },
  {
   "cell_type": "code",
   "execution_count": 17,
   "metadata": {},
   "outputs": [
    {
     "name": "stdout",
     "output_type": "stream",
     "text": [
      "PROPERTIES\n",
      "----------\n",
      "OWNER          hippo                  \n",
      "                                      \n",
      "CREATED        2019-09-17 00:18:21    \n",
      "CREATED BY     hippo                  \n",
      "                                      \n",
      "MODIFIED       2019-09-17 17:50:59    \n",
      "MODIFIED BY    hippo                  \n",
      "                                      \n",
      "DATASETS       1                      \n",
      "\n",
      "\n",
      "ACCESS CONTROL\n",
      "--------------\n",
      "GRANTED TO    PRIVILEGE    GRANTED BY    GRANTED AT             \n",
      "foo           member       hippo         2019-09-17 17:50:59    \n",
      "\n",
      "\n",
      "\n",
      "---\n",
      "\n"
     ]
    },
    {
     "data": {
      "text/plain": [
       "PROPERTIES\n",
       "----------\n",
       "OWNER          hippo                  \n",
       "                                      \n",
       "CREATED        2019-09-17 00:18:21    \n",
       "CREATED BY     hippo                  \n",
       "                                      \n",
       "MODIFIED       2019-09-17 17:50:59    \n",
       "MODIFIED BY    hippo                  \n",
       "                                      \n",
       "DATASETS       1                      \n",
       "\n",
       "\n",
       "ACCESS CONTROL\n",
       "--------------\n",
       "GRANTED TO    PRIVILEGE    GRANTED BY    GRANTED AT    \n"
      ]
     },
     "execution_count": 17,
     "metadata": {},
     "output_type": "execute_result"
    }
   ],
   "source": [
    "ns \\\n",
    "    .grant(NsPrivilege.MEMBER, Auth.USER, 'foo') \\\n",
    "    .print()\n",
    "\n",
    "print()\n",
    "print('---')\n",
    "print()\n",
    "\n",
    "ns.revoke(NsPrivilege.MEMBER, Auth.USER, 'foo')"
   ]
  },
  {
   "cell_type": "markdown",
   "metadata": {},
   "source": [
    "## Working with Datasets\n",
    "\n",
    "Datasets can be access via their parent namespace object."
   ]
  },
  {
   "cell_type": "code",
   "execution_count": 5,
   "metadata": {},
   "outputs": [
    {
     "data": {
      "text/html": [
       "<div>\n",
       "<style scoped>\n",
       "    .dataframe tbody tr th:only-of-type {\n",
       "        vertical-align: middle;\n",
       "    }\n",
       "\n",
       "    .dataframe tbody tr th {\n",
       "        vertical-align: top;\n",
       "    }\n",
       "\n",
       "    .dataframe thead th {\n",
       "        text-align: right;\n",
       "    }\n",
       "</style>\n",
       "<table border=\"1\" class=\"dataframe\">\n",
       "  <thead>\n",
       "    <tr style=\"text-align: right;\">\n",
       "      <th></th>\n",
       "      <th>NAME</th>\n",
       "    </tr>\n",
       "  </thead>\n",
       "  <tbody>\n",
       "    <tr>\n",
       "      <th>0</th>\n",
       "      <td>my-data</td>\n",
       "    </tr>\n",
       "  </tbody>\n",
       "</table>\n",
       "</div>"
      ],
      "text/plain": [
       "      NAME\n",
       "0  my-data"
      ]
     },
     "execution_count": 5,
     "metadata": {},
     "output_type": "execute_result"
    }
   ],
   "source": [
    "ns.datasets()"
   ]
  },
  {
   "cell_type": "code",
   "execution_count": 9,
   "metadata": {},
   "outputs": [
    {
     "data": {
      "text/plain": [
       "PROPERTIES\n",
       "----------\n",
       "OWNER          hippo                  \n",
       "                                      \n",
       "CREATED        2019-09-17 17:45:19    \n",
       "CREATED BY     hippo                  \n",
       "                                      \n",
       "MODIFIED       2019-09-17 17:45:19    \n",
       "MODIFIED BY    hippo                  \n",
       "                                      \n",
       "VERSIONS       2                      \n",
       "\n",
       "\n",
       "ACCESS CONTROL\n",
       "--------------\n",
       "USER    PRIVILEGE    GRANTED BY    GRANTED AT    \n"
      ]
     },
     "execution_count": 9,
     "metadata": {},
     "output_type": "execute_result"
    }
   ],
   "source": [
    "ds = ns.dataset('my-data')\n",
    "ds.create()"
   ]
  },
  {
   "cell_type": "code",
   "execution_count": 20,
   "metadata": {},
   "outputs": [
    {
     "name": "stdout",
     "output_type": "stream",
     "text": [
      "PROPERTIES\n",
      "----------\n",
      "OWNER          hippo                  \n",
      "                                      \n",
      "CREATED        2019-09-17 17:53:03    \n",
      "CREATED BY     hippo                  \n",
      "                                      \n",
      "MODIFIED       2019-09-17 17:53:03    \n",
      "MODIFIED BY    hippo                  \n",
      "                                      \n",
      "VERSIONS       2                      \n",
      "\n",
      "\n",
      "ACCESS CONTROL\n",
      "--------------\n",
      "GRANTED TO    PRIVILEGE    GRANTED BY    GRANTED AT             \n",
      "*             consumer     hippo         2019-09-17 17:49:53    \n",
      "\n",
      "\n",
      "\n",
      "---\n",
      "\n"
     ]
    },
    {
     "data": {
      "text/plain": [
       "PROPERTIES\n",
       "----------\n",
       "OWNER          hippo                  \n",
       "                                      \n",
       "CREATED        2019-09-17 17:53:03    \n",
       "CREATED BY     hippo                  \n",
       "                                      \n",
       "MODIFIED       2019-09-17 17:53:03    \n",
       "MODIFIED BY    hippo                  \n",
       "                                      \n",
       "VERSIONS       2                      \n",
       "\n",
       "\n",
       "ACCESS CONTROL\n",
       "--------------\n",
       "GRANTED TO    PRIVILEGE    GRANTED BY    GRANTED AT    \n"
      ]
     },
     "execution_count": 20,
     "metadata": {},
     "output_type": "execute_result"
    }
   ],
   "source": [
    "ds \\\n",
    "    .grant(DsPrivilege.CONSUMER, Auth.WILDCARD) \\\n",
    "    .print()\n",
    "\n",
    "print()\n",
    "print('---')\n",
    "print()\n",
    "\n",
    "ds \\\n",
    "    .revoke(DsPrivilege.CONSUMER, Auth.WILDCARD)"
   ]
  },
  {
   "cell_type": "code",
   "execution_count": 21,
   "metadata": {},
   "outputs": [
    {
     "data": {
      "text/html": [
       "<div>\n",
       "<style scoped>\n",
       "    .dataframe tbody tr th:only-of-type {\n",
       "        vertical-align: middle;\n",
       "    }\n",
       "\n",
       "    .dataframe tbody tr th {\n",
       "        vertical-align: top;\n",
       "    }\n",
       "\n",
       "    .dataframe thead th {\n",
       "        text-align: right;\n",
       "    }\n",
       "</style>\n",
       "<table border=\"1\" class=\"dataframe\">\n",
       "  <thead>\n",
       "    <tr style=\"text-align: right;\">\n",
       "      <th></th>\n",
       "      <th>VERSION</th>\n",
       "      <th>RECORDS</th>\n",
       "      <th>MODIFIED</th>\n",
       "      <th>BY</th>\n",
       "      <th>ID</th>\n",
       "    </tr>\n",
       "  </thead>\n",
       "  <tbody>\n",
       "    <tr>\n",
       "      <th>0</th>\n",
       "      <td>1.1.0</td>\n",
       "      <td>5</td>\n",
       "      <td>2019-09-17 00:46:26</td>\n",
       "      <td>hippo</td>\n",
       "      <td>51074143-5908-40a1-bd31-99907ed74d16</td>\n",
       "    </tr>\n",
       "    <tr>\n",
       "      <th>1</th>\n",
       "      <td>1.0.0</td>\n",
       "      <td>5</td>\n",
       "      <td>2019-09-17 00:19:05</td>\n",
       "      <td>hippo</td>\n",
       "      <td>f909ce31-4b77-49be-b31c-1d4d9b7a0886</td>\n",
       "    </tr>\n",
       "  </tbody>\n",
       "</table>\n",
       "</div>"
      ],
      "text/plain": [
       "  VERSION  RECORDS             MODIFIED     BY  \\\n",
       "0   1.1.0        5  2019-09-17 00:46:26  hippo   \n",
       "1   1.0.0        5  2019-09-17 00:19:05  hippo   \n",
       "\n",
       "                                     ID  \n",
       "0  51074143-5908-40a1-bd31-99907ed74d16  \n",
       "1  f909ce31-4b77-49be-b31c-1d4d9b7a0886  "
      ]
     },
     "execution_count": 21,
     "metadata": {},
     "output_type": "execute_result"
    }
   ],
   "source": [
    "ds.versions()"
   ]
  },
  {
   "cell_type": "code",
   "execution_count": 23,
   "metadata": {},
   "outputs": [
    {
     "data": {
      "text/plain": [
       "PROPERTIES\n",
       "----------\n",
       "ID                   f909ce31-4b77-49be-b31c-1d4d9b7a0886    \n",
       "RECORDS              5                                       \n",
       "                                                             \n",
       "SHORT DESCRIPTION    some nice data                          \n",
       "COMMITTED            2019-09-17 00:19:05                     \n",
       "COMMITTED BY         hippo                                   \n",
       "                                                             \n",
       "CREATED              2019-09-17 00:19:05                     \n",
       "CREATED BY           hippo                                   \n",
       "                                                             \n",
       "MODIFIED             2019-09-17 00:19:05                     \n",
       "MODIFIED BY          hippo                                   \n",
       "\n",
       "\n",
       "SCHEMA\n",
       "------\n",
       "{\n",
       "  \"type\" : \"record\",\n",
       "  \"name\" : \"country\",\n",
       "  \"fields\" : [ {\n",
       "    \"name\" : \"name\",\n",
       "    \"type\" : \"string\"\n",
       "  }, {\n",
       "    \"name\" : \"capital\",\n",
       "    \"type\" : \"string\"\n",
       "  }, {\n",
       "    \"name\" : \"citizens\",\n",
       "    \"type\" : \"int\"\n",
       "  } ]\n",
       "}"
      ]
     },
     "execution_count": 23,
     "metadata": {},
     "output_type": "execute_result"
    }
   ],
   "source": [
    "version = ds.version('1.0.0')\n",
    "version"
   ]
  },
  {
   "cell_type": "code",
   "execution_count": null,
   "metadata": {},
   "outputs": [],
   "source": []
  }
 ],
 "metadata": {
  "kernelspec": {
   "display_name": "Python 3",
   "language": "python",
   "name": "python3"
  },
  "language_info": {
   "codemirror_mode": {
    "name": "ipython",
    "version": 3
   },
   "file_extension": ".py",
   "mimetype": "text/x-python",
   "name": "python",
   "nbconvert_exporter": "python",
   "pygments_lexer": "ipython3",
   "version": "3.7.3"
  }
 },
 "nbformat": 4,
 "nbformat_minor": 2
}
